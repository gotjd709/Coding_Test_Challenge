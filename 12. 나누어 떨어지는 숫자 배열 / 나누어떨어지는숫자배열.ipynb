{
  "nbformat": 4,
  "nbformat_minor": 0,
  "metadata": {
    "colab": {
      "name": "나누어떨어지는숫자배열.ipynb",
      "provenance": [],
      "authorship_tag": "ABX9TyPm5k4JSTZ+2gg9fQAeIGdZ",
      "include_colab_link": true
    },
    "kernelspec": {
      "name": "python3",
      "display_name": "Python 3"
    }
  },
  "cells": [
    {
      "cell_type": "markdown",
      "metadata": {
        "id": "view-in-github",
        "colab_type": "text"
      },
      "source": [
        "<a href=\"https://colab.research.google.com/github/gotjd709/Coding_Test_Challenge/blob/main/12.%20%EB%82%98%EB%88%84%EC%96%B4%20%EB%96%A8%EC%96%B4%EC%A7%80%EB%8A%94%20%EC%88%AB%EC%9E%90%20%EB%B0%B0%EC%97%B4%20/%20%EB%82%98%EB%88%84%EC%96%B4%EB%96%A8%EC%96%B4%EC%A7%80%EB%8A%94%EC%88%AB%EC%9E%90%EB%B0%B0%EC%97%B4.ipynb\" target=\"_parent\"><img src=\"https://colab.research.google.com/assets/colab-badge.svg\" alt=\"Open In Colab\"/></a>"
      ]
    },
    {
      "cell_type": "markdown",
      "metadata": {
        "id": "cq8uQ3YqjROl"
      },
      "source": [
        "나누어 떨어지는 숫자 배열\n",
        "===\n",
        "\n",
        "### 필요하다고 생각한 기능\n",
        "- arr의 각 원소가 divisor를 나누었을 때 나머지가 0이 되도록\n",
        "- anoswer의 길이가 0일 경우 -1을 넣도록\n",
        "\n",
        "### 내가 만든 함수"
      ]
    },
    {
      "cell_type": "code",
      "metadata": {
        "colab": {
          "base_uri": "https://localhost:8080/"
        },
        "id": "pYdnmq1SjMnw",
        "outputId": "3dddd0e1-c9b3-4c45-f280-d2313a530ec6"
      },
      "source": [
        "def solution(arr, divisor):\n",
        "    answer = []\n",
        "    \n",
        "    for i in arr:\n",
        "        if i % divisor == 0:\n",
        "            answer.append(i)\n",
        "    \n",
        "    if len(answer) == 0:\n",
        "        answer.append(-1) \n",
        "        \n",
        "    return sorted(answer)\n",
        "\n",
        "solution([2, 36, 1, 3], 1)"
      ],
      "execution_count": 1,
      "outputs": [
        {
          "output_type": "execute_result",
          "data": {
            "text/plain": [
              "[1, 2, 3, 36]"
            ]
          },
          "metadata": {
            "tags": []
          },
          "execution_count": 1
        }
      ]
    },
    {
      "cell_type": "markdown",
      "metadata": {
        "id": "03yu4UOZqi9G"
      },
      "source": [
        "### 다른 사람의 깔끔한 풀이"
      ]
    },
    {
      "cell_type": "code",
      "metadata": {
        "id": "7Zl8ZRSOqiJs"
      },
      "source": [
        "def solution(arr, divisor): return sorted([n for n in arr if n%divisor == 0]) or [-1]"
      ],
      "execution_count": null,
      "outputs": []
    },
    {
      "cell_type": "markdown",
      "metadata": {
        "id": "dv3CyPO5qr2y"
      },
      "source": [
        "분석\n",
        "- sorted() 안에 list comprehension 을 사용하여 한 줄에 해결하였다.\n",
        "- or 을 사용하여 앞에가 거짓일 경우 뒤의 결과를 출력하도록 하였다."
      ]
    },
    {
      "cell_type": "code",
      "metadata": {
        "id": "WLxZCSnrsrO6"
      },
      "source": [
        ""
      ],
      "execution_count": null,
      "outputs": []
    }
  ]
}