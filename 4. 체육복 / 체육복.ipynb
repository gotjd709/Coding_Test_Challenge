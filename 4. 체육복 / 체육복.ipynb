{
  "nbformat": 4,
  "nbformat_minor": 0,
  "metadata": {
    "colab": {
      "name": "체육복.ipynb",
      "provenance": [],
      "authorship_tag": "ABX9TyPJ+L7igT/UORiDINwVBp+p",
      "include_colab_link": true
    },
    "kernelspec": {
      "name": "python3",
      "display_name": "Python 3"
    }
  },
  "cells": [
    {
      "cell_type": "markdown",
      "metadata": {
        "id": "view-in-github",
        "colab_type": "text"
      },
      "source": [
        "<a href=\"https://colab.research.google.com/github/gotjd709/Coding_Test_Challenge/blob/main/4.%20%EC%B2%B4%EC%9C%A1%EB%B3%B5%20/%20%EC%B2%B4%EC%9C%A1%EB%B3%B5.ipynb\" target=\"_parent\"><img src=\"https://colab.research.google.com/assets/colab-badge.svg\" alt=\"Open In Colab\"/></a>"
      ]
    },
    {
      "cell_type": "markdown",
      "metadata": {
        "id": "MqBEXD1cTzLz"
      },
      "source": [
        "### 탐욕법\r\n",
        "- 부분적인 최적해가 전체적인 최적해가 되는 경우"
      ]
    },
    {
      "cell_type": "code",
      "metadata": {
        "colab": {
          "base_uri": "https://localhost:8080/"
        },
        "id": "cg0xFG-ZGz5b",
        "outputId": "9554083c-6052-4c2b-8e95-7ea11a754838"
      },
      "source": [
        "n = 5\r\n",
        "lost = [2, 4]\r\n",
        "reverse = [1, 3, 5]\r\n",
        "\r\n",
        "for i in lost:\r\n",
        "  if i in reverse:\r\n",
        "    lost.remove(i)\r\n",
        "    reserve.remove(i)\r\n",
        "\r\n",
        "for i in lost:\r\n",
        "  if i-1 in reverse:\r\n",
        "    lost.remove(i)\r\n",
        "    reverse.remove(i-1)\r\n",
        "  elif i+1 in reverse:\r\n",
        "    lost.remove(i)\r\n",
        "    reverse.remove(i+1)\r\n",
        "\r\n",
        "answer = n - len(lost) \r\n",
        "print(answer)\r\n",
        "\r\n"
      ],
      "execution_count": 41,
      "outputs": [
        {
          "output_type": "stream",
          "text": [
            "4\n"
          ],
          "name": "stdout"
        }
      ]
    },
    {
      "cell_type": "code",
      "metadata": {
        "colab": {
          "base_uri": "https://localhost:8080/"
        },
        "id": "xO_cvnErmIlx",
        "outputId": "fdc75520-5b0e-4f2e-84d0-37bc58b79e7f"
      },
      "source": [
        "lost=[2, 4]\r\n",
        "lost[0]"
      ],
      "execution_count": 30,
      "outputs": [
        {
          "output_type": "execute_result",
          "data": {
            "text/plain": [
              "2"
            ]
          },
          "metadata": {
            "tags": []
          },
          "execution_count": 30
        }
      ]
    }
  ]
}