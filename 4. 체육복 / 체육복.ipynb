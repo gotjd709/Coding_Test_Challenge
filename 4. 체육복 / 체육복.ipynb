{
  "nbformat": 4,
  "nbformat_minor": 0,
  "metadata": {
    "colab": {
      "name": "체육복.ipynb",
      "provenance": [],
      "authorship_tag": "ABX9TyNQf0fYcESgg/XuNF9N+hTz",
      "include_colab_link": true
    },
    "kernelspec": {
      "name": "python3",
      "display_name": "Python 3"
    }
  },
  "cells": [
    {
      "cell_type": "markdown",
      "metadata": {
        "id": "view-in-github",
        "colab_type": "text"
      },
      "source": [
        "<a href=\"https://colab.research.google.com/github/gotjd709/Coding_Test_Challenge/blob/main/4.%20%EC%B2%B4%EC%9C%A1%EB%B3%B5%20/%20%EC%B2%B4%EC%9C%A1%EB%B3%B5.ipynb\" target=\"_parent\"><img src=\"https://colab.research.google.com/assets/colab-badge.svg\" alt=\"Open In Colab\"/></a>"
      ]
    },
    {
      "cell_type": "markdown",
      "metadata": {
        "id": "MqBEXD1cTzLz"
      },
      "source": [
        "### 탐욕법\r\n",
        "- 부분적인 최적해가 전체적인 최적해가 되는 경우\r\n",
        "\r\n",
        "---\r\n",
        "1. 함수 없이 해보기"
      ]
    },
    {
      "cell_type": "code",
      "metadata": {
        "colab": {
          "base_uri": "https://localhost:8080/"
        },
        "id": "cg0xFG-ZGz5b",
        "outputId": "07740114-eedd-43f2-f1c4-87b2c37b7745"
      },
      "source": [
        "lost = [7, 8, 11, 12]\r\n",
        "reverse = [1, 6, 8, 10]\r\n",
        "\r\n",
        "re = sorted(list(set(reverse) - set(lost)))\r\n",
        "lo = sorted(list(set(lost) - set(reverse)))\r\n",
        "\r\n",
        "print(lo, re)\r\n",
        "\r\n",
        "for i in re:\r\n",
        "  if i-1 in lo:\r\n",
        "    lo.remove(i-1)\r\n",
        "  elif i+1 in lo:\r\n",
        "    lo.remove(i+1)\r\n",
        "\r\n",
        "print(lo)\r\n"
      ],
      "execution_count": 1,
      "outputs": [
        {
          "output_type": "stream",
          "text": [
            "[7, 11, 12] [1, 6, 10]\n",
            "[12]\n"
          ],
          "name": "stdout"
        }
      ]
    },
    {
      "cell_type": "markdown",
      "metadata": {
        "id": "jyRN4B05Cpji"
      },
      "source": [
        "2. 나의 최종 풀이"
      ]
    },
    {
      "cell_type": "code",
      "metadata": {
        "id": "gdv0RoFPCvMP"
      },
      "source": [
        "def solution(n, lost, reserve):\r\n",
        "\r\n",
        "    re = sorted(list(set(reserve) - set(lost)))\r\n",
        "    lo = sorted(list(set(lost) - set(reserve)))\r\n",
        "\r\n",
        "    for i in re:\r\n",
        "        if i-1 in lo:\r\n",
        "            lo.remove(i-1)\r\n",
        "        elif i+1 in lo:\r\n",
        "            lo.remove(i+1)\r\n",
        "\r\n",
        "    answer = n - len(lo)\r\n",
        "\r\n",
        "    return answer"
      ],
      "execution_count": 3,
      "outputs": []
    }
  ]
}