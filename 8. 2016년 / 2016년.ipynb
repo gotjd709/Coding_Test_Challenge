{
  "nbformat": 4,
  "nbformat_minor": 0,
  "metadata": {
    "colab": {
      "name": "2016년",
      "provenance": [],
      "authorship_tag": "ABX9TyOvekVTc8grvE6aMXm+lZ9A",
      "include_colab_link": true
    },
    "kernelspec": {
      "name": "python3",
      "display_name": "Python 3"
    }
  },
  "cells": [
    {
      "cell_type": "markdown",
      "metadata": {
        "id": "view-in-github",
        "colab_type": "text"
      },
      "source": [
        "<a href=\"https://colab.research.google.com/github/gotjd709/Coding_Test_Challenge/blob/main/8.%202016%EB%85%84%20/%202016%EB%85%84.ipynb\" target=\"_parent\"><img src=\"https://colab.research.google.com/assets/colab-badge.svg\" alt=\"Open In Colab\"/></a>"
      ]
    },
    {
      "cell_type": "markdown",
      "metadata": {
        "id": "rb6RMhfYtqH0"
      },
      "source": [
        "2016년\n",
        "===\n",
        "\n",
        "전략\n",
        "- dictionary의 활용\n",
        "- dictionary.get()을 활용\n",
        "\n",
        "### 나의 풀이"
      ]
    },
    {
      "cell_type": "code",
      "metadata": {
        "colab": {
          "base_uri": "https://localhost:8080/",
          "height": 34
        },
        "id": "JI6IpupXtb8h",
        "outputId": "134fad30-d3bc-4f31-85cd-9b0493265178"
      },
      "source": [
        "def solution(a, b):\n",
        "    dic1 = {1:31, 2:29, 3:31, 4:30, 5:31, 6:30, 7:31, 8:31, 9:30, 10:31, 11:30, 12:31}\n",
        "    dic2 = {1:'FRI', 2:'SAT', 3:'SUN', 4:'MON', 5:'TUE', 6:'WED', 7:'THU'}\n",
        "    dump = 0\n",
        "\n",
        "    if a == 1:\n",
        "      return dic2.get(b%7)\n",
        "    else:\n",
        "      for i in range(1,a):\n",
        "        dump = dump + dic1.get(i)\n",
        "      return dic2.get((dump+b)%7)\n",
        "        \n",
        "\n",
        "\n",
        "solution(5, 24)"
      ],
      "execution_count": 7,
      "outputs": [
        {
          "output_type": "execute_result",
          "data": {
            "application/vnd.google.colaboratory.intrinsic+json": {
              "type": "string"
            },
            "text/plain": [
              "'TUE'"
            ]
          },
          "metadata": {
            "tags": []
          },
          "execution_count": 7
        }
      ]
    },
    {
      "cell_type": "markdown",
      "metadata": {
        "id": "0SOCBURa4SR1"
      },
      "source": [
        "### 한계점\n",
        "\n",
        "- dictionary.get을 활용하다보니 전체를 합하는 식이 복잡해졌음\n",
        "\n",
        "### 다른 사람의 좋은 풀이"
      ]
    },
    {
      "cell_type": "code",
      "metadata": {
        "id": "hVp05Bfn4R8g"
      },
      "source": [
        "def getDayName(a,b):\n",
        "    months = [31, 29, 31, 30, 31, 30, 31, 31, 30, 31, 30, 31]\n",
        "    days = ['FRI', 'SAT', 'SUN', 'MON', 'TUE', 'WED', 'THU']\n",
        "    return days[(sum(months[:a-1])+b-1)%7]"
      ],
      "execution_count": null,
      "outputs": []
    },
    {
      "cell_type": "markdown",
      "metadata": {
        "id": "zNG7y2dQ4tWM"
      },
      "source": [
        "### 보고 알게된 점\n",
        "\n",
        "- dictionary를 사용하지 않더라도 list의 자릿수를 활용할 수 있다!! 따라서, 굳이 dictionary를 활용하지 않아도 된다!!\n",
        "- 이때, 유익한 점은 sum(list[:n])을 활용하면 쉽게 리스트의 합을 구할 수 있다는 것!!\n",
        "- 만약 sum(list[0:0])인 경우에도 에러가 나지 않고 계산이 가능하다!"
      ]
    },
    {
      "cell_type": "code",
      "metadata": {
        "id": "f-PdSYtU7JBy"
      },
      "source": [
        ""
      ],
      "execution_count": null,
      "outputs": []
    }
  ]
}