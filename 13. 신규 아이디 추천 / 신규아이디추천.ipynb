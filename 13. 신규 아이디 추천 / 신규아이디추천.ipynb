{
  "nbformat": 4,
  "nbformat_minor": 0,
  "metadata": {
    "colab": {
      "name": "신규 아이디 추천.ipynb",
      "provenance": [],
      "authorship_tag": "ABX9TyMiI41tucaz4az9Fk3p1Tt8",
      "include_colab_link": true
    },
    "kernelspec": {
      "name": "python3",
      "display_name": "Python 3"
    },
    "language_info": {
      "name": "python"
    }
  },
  "cells": [
    {
      "cell_type": "markdown",
      "metadata": {
        "id": "view-in-github",
        "colab_type": "text"
      },
      "source": [
        "<a href=\"https://colab.research.google.com/github/gotjd709/Coding_Test_Challenge/blob/main/13.%20%EC%8B%A0%EA%B7%9C%20%EC%95%84%EC%9D%B4%EB%94%94%20%EC%B6%94%EC%B2%9C%20/%20%EC%8B%A0%EA%B7%9C%EC%95%84%EC%9D%B4%EB%94%94%EC%B6%94%EC%B2%9C.ipynb\" target=\"_parent\"><img src=\"https://colab.research.google.com/assets/colab-badge.svg\" alt=\"Open In Colab\"/></a>"
      ]
    },
    {
      "cell_type": "markdown",
      "metadata": {
        "id": "A272eNiybJoG"
      },
      "source": [
        "# 신규 아이디 추천\n",
        "\n",
        "### 내가 만든 함수"
      ]
    },
    {
      "cell_type": "code",
      "metadata": {
        "id": "ZIe4wNVuR-ok"
      },
      "source": [
        "import re\n",
        "\n",
        "def solution(new_id):\n",
        "    new_id = new_id.lower()\n",
        "    new_id = re.sub(r\"[^a-z0-9-_.]\",\"\",new_id)\n",
        "    while new_id.find(\"..\") != -1:\n",
        "        new_id = new_id.replace(\"..\", \".\")\n",
        "    if new_id[0] == \".\":\n",
        "        new_id = new_id[1:]\n",
        "    if new_id != \"\":\n",
        "        if new_id[-1] == \".\":\n",
        "            new_id = new_id[:-1]\n",
        "    if new_id == \"\":\n",
        "        new_id = \"a\"\n",
        "    if len(new_id) >= 16:\n",
        "        new_id = new_id[:15]\n",
        "        if new_id[-1] == \".\":\n",
        "            new_id = new_id[:-1]\n",
        "    while len(new_id) <= 2:\n",
        "        new_id = new_id + new_id[-1]\n",
        "\n",
        "    return new_id"
      ],
      "execution_count": 97,
      "outputs": []
    },
    {
      "cell_type": "code",
      "metadata": {
        "colab": {
          "base_uri": "https://localhost:8080/",
          "height": 35
        },
        "id": "4Dbk3xNVggxu",
        "outputId": "8306af81-51c5-4b65-d3d4-d7ead65f9cc0"
      },
      "source": [
        "re.sub('^[.]|[.]$', '.', '...!@BaT#*..y.abcdefghijklm')"
      ],
      "execution_count": 99,
      "outputs": [
        {
          "output_type": "execute_result",
          "data": {
            "application/vnd.google.colaboratory.intrinsic+json": {
              "type": "string"
            },
            "text/plain": [
              "'...!@BaT#*..y.abcdefghijklm'"
            ]
          },
          "metadata": {
            "tags": []
          },
          "execution_count": 99
        }
      ]
    },
    {
      "cell_type": "markdown",
      "metadata": {
        "id": "hBBRnojAfyxL"
      },
      "source": [
        "### 다른 사람이 만든 함수"
      ]
    },
    {
      "cell_type": "code",
      "metadata": {
        "id": "mFtTIwkqfwym"
      },
      "source": [
        "import re\n",
        "\n",
        "def solution(new_id):\n",
        "    st = new_id\n",
        "    st = st.lower()\n",
        "    st = re.sub('[^a-z0-9\\-_.]', '', st)\n",
        "    st = re.sub('\\.+', '.', st)\n",
        "    st = re.sub('^[.]|[.]$', '', st)\n",
        "    st = 'a' if len(st) == 0 else st[:15]\n",
        "    st = re.sub('^[.]|[.]$', '', st)\n",
        "    st = st if len(st) > 2 else st + \"\".join([st[-1] for i in range(3-len(st))])\n",
        "    return st"
      ],
      "execution_count": null,
      "outputs": []
    },
    {
      "cell_type": "markdown",
      "metadata": {
        "id": "HKFn-G9QgFUm"
      },
      "source": [
        "\n",
        "- re.sub('\\\\.+', '.', '문자열')과 같은 방식으로 .이 2개 이상 있을 시 제거하는 방법을 알게 되었다.\n",
        "\n",
        "- re.sub('^[.]|[.]$', '', '문자열')과 같은 방식으로 양 끝에 .이 있을 시 제거하는 방법을 알게 되었다.\n",
        "\n"
      ]
    }
  ]
}