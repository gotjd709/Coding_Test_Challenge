{
  "nbformat": 4,
  "nbformat_minor": 0,
  "metadata": {
    "colab": {
      "name": " 두정수사이의합.ipynb",
      "provenance": [],
      "authorship_tag": "ABX9TyMUWaRkGPQa97vbndEflE3+",
      "include_colab_link": true
    },
    "kernelspec": {
      "name": "python3",
      "display_name": "Python 3"
    }
  },
  "cells": [
    {
      "cell_type": "markdown",
      "metadata": {
        "id": "view-in-github",
        "colab_type": "text"
      },
      "source": [
        "<a href=\"https://colab.research.google.com/github/gotjd709/Coding_Test_Challenge/blob/main/5.%20%EB%91%90%20%EC%A0%95%EC%88%98%20%EC%82%AC%EC%9D%B4%EC%9D%98%20%ED%95%A9%20/%20%EB%91%90%EC%A0%95%EC%88%98%EC%82%AC%EC%9D%B4%EC%9D%98%ED%95%A9.ipynb\" target=\"_parent\"><img src=\"https://colab.research.google.com/assets/colab-badge.svg\" alt=\"Open In Colab\"/></a>"
      ]
    },
    {
      "cell_type": "markdown",
      "metadata": {
        "id": "4S7ZkgCP_ZpT"
      },
      "source": [
        "### 두 정수 사이의 합"
      ]
    },
    {
      "cell_type": "code",
      "metadata": {
        "id": "4OakLUQe_S3n"
      },
      "source": [
        "### 나의 풀이\n",
        "\n",
        "def solution(a, b):\n",
        "    if a == b:\n",
        "        answer = a\n",
        "    if a > b:\n",
        "        answer = sum(n for n in range(b,a+1))\n",
        "    if a < b:\n",
        "        answer = sum(n for n in range(a,b+1))\n",
        "    return answer"
      ],
      "execution_count": 1,
      "outputs": []
    },
    {
      "cell_type": "markdown",
      "metadata": {
        "id": "jo96uXu8_vU8"
      },
      "source": [
        "##### 문제점 파악\n",
        "\n",
        "- elif 사용하지 않았음\n",
        "\n",
        "-  sum(range(b,b+1))이 가능함"
      ]
    },
    {
      "cell_type": "code",
      "metadata": {
        "id": "qedmbL_aADhc"
      },
      "source": [
        "### 다른 사람의 최고 좋은 풀이\n",
        "\n",
        "def adder(a, b):\n",
        "    return (abs(a-b)+1)*(a+b)//2"
      ],
      "execution_count": 3,
      "outputs": []
    },
    {
      "cell_type": "markdown",
      "metadata": {
        "id": "ugI6c-l8AqBK"
      },
      "source": [
        "### 분석\n",
        "\n",
        "- 수열의 합을 이용하였음\n",
        "- a부터 b까지의 합은 (a, b 둘 다 정수일 때)\n",
        "  $$ (b-a+1)*(b+a)/2 $$\n",
        "- 여기서 a, b의 대소관계를 알 수 없을 때는 절대값을 써주면 됨\n",
        "  $$ |b-a+1|*(b+a)/2 $$"
      ]
    }
  ]
}