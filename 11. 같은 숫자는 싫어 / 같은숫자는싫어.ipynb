{
  "nbformat": 4,
  "nbformat_minor": 0,
  "metadata": {
    "colab": {
      "name": "같은숫자는싫어.ipynb",
      "provenance": [],
      "collapsed_sections": [],
      "authorship_tag": "ABX9TyMTi2OXduPUlbq/GeBIhtMt",
      "include_colab_link": true
    },
    "kernelspec": {
      "name": "python3",
      "display_name": "Python 3"
    }
  },
  "cells": [
    {
      "cell_type": "markdown",
      "metadata": {
        "id": "view-in-github",
        "colab_type": "text"
      },
      "source": [
        "<a href=\"https://colab.research.google.com/github/gotjd709/Coding_Test_Challenge/blob/main/11.%20%EA%B0%99%EC%9D%80%20%EC%88%AB%EC%9E%90%EB%8A%94%20%EC%8B%AB%EC%96%B4%20/%20%EA%B0%99%EC%9D%80%EC%88%AB%EC%9E%90%EB%8A%94%EC%8B%AB%EC%96%B4.ipynb\" target=\"_parent\"><img src=\"https://colab.research.google.com/assets/colab-badge.svg\" alt=\"Open In Colab\"/></a>"
      ]
    },
    {
      "cell_type": "markdown",
      "metadata": {
        "id": "jyXo5HDI0b_m"
      },
      "source": [
        "같은 숫자는 싫어\n",
        "===\n",
        "\n",
        "- 처음에 필요하다고 생각했던 사항\n",
        "  - for문을 통해서 arr을 길이만큼 반복\n",
        "  - 리스트에서 하나씩 제거하는 방법\n",
        "\n",
        "- 문제가 되었던 사항\n",
        "  - 반복할수록 시간복잡도가 높아짐\n",
        "  - 또한 리스트가 제거되면 길이가 달라져서 문제가 발생함\n",
        "\n",
        "- 문제를 통하여 고안한 사항\n",
        "  - 새로운 리스트를 만들어서 다를때만 넣어주자!!\n",
        "\n",
        "- 결론적으로 필요하다고 생각한 내용\n",
        "  - for문을 통해 반복\n",
        "  - if문을 통해 다를 때만 입력\n",
        "  - append를 통해 리스트에 추가\n",
        "\n",
        "### 1. 생각해낸 함수 "
      ]
    },
    {
      "cell_type": "code",
      "metadata": {
        "id": "-dyx2kMF0E5W"
      },
      "source": [
        "def solution(arr):\n",
        "    answer = []\n",
        "    for i in range(len(arr)-1):\n",
        "        if arr[i] != arr[i+1]:\n",
        "            answer.append(arr[i])\n",
        "    answer.append(arr[len(arr)-1])\n",
        "    return answer"
      ],
      "execution_count": 1,
      "outputs": []
    },
    {
      "cell_type": "markdown",
      "metadata": {
        "id": "sMXE2gfs4uMF"
      },
      "source": [
        "- 함수 설명\n",
        "  - for문에서 카운터용 변수를 0부터 arr길이 -1 까지 실행\n",
        "  - arr에서 i 번째와 i+1 번째가 같지 않다면 i번째를 \n",
        "  - append 함수를 통해넣어줌\n",
        "  - 이렇게 할 시 마지막으로 반복되는 숫자(한 번 반복일지라도) 남게되기 때문에 마지막에 한 번 더 추가해줌\n",
        "\n",
        "### 2. 다른 사람이 생각해낸 더 명료한 함수"
      ]
    },
    {
      "cell_type": "code",
      "metadata": {
        "id": "pnbD4vZf8nkf"
      },
      "source": [
        "def no_continuous(s):\n",
        "    a = []\n",
        "    for i in s:\n",
        "        if a[-1:] == [i]: continue\n",
        "        a.append(i)\n",
        "    return a"
      ],
      "execution_count": 2,
      "outputs": []
    },
    {
      "cell_type": "markdown",
      "metadata": {
        "id": "cjIBscAG844f"
      },
      "source": [
        "- 핵심\n",
        "  - 슬라이싱을 하여 리스트로 비교하는 것\n",
        "\n",
        "### 3. 알게 된 점\n",
        "- 리스트를 슬라이싱 하면 그대로 리스트를 리턴함\n",
        "- 따라서 i에 []을 써주어야 함\n",
        "- a[-1:]은 빈배열에 쓰더라도 상관이 없음\n"
      ]
    },
    {
      "cell_type": "code",
      "metadata": {
        "id": "8aX7eehdAISi"
      },
      "source": [
        ""
      ],
      "execution_count": null,
      "outputs": []
    }
  ]
}