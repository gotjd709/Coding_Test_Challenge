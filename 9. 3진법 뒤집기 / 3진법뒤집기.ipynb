{
  "nbformat": 4,
  "nbformat_minor": 0,
  "metadata": {
    "colab": {
      "name": " 3진법뒤집기",
      "provenance": [],
      "collapsed_sections": [],
      "authorship_tag": "ABX9TyNd19URejDtrg6SjaIQpR3w",
      "include_colab_link": true
    },
    "kernelspec": {
      "name": "python3",
      "display_name": "Python 3"
    }
  },
  "cells": [
    {
      "cell_type": "markdown",
      "metadata": {
        "id": "view-in-github",
        "colab_type": "text"
      },
      "source": [
        "<a href=\"https://colab.research.google.com/github/gotjd709/Coding_Test_Challenge/blob/main/9.%203%EC%A7%84%EB%B2%95%20%EB%92%A4%EC%A7%91%EA%B8%B0%20/%203%EC%A7%84%EB%B2%95%EB%92%A4%EC%A7%91%EA%B8%B0.ipynb\" target=\"_parent\"><img src=\"https://colab.research.google.com/assets/colab-badge.svg\" alt=\"Open In Colab\"/></a>"
      ]
    },
    {
      "cell_type": "markdown",
      "metadata": {
        "id": "NQUkLm2sOecx"
      },
      "source": [
        "3진법 뒤집기\n",
        "===\n",
        "\n",
        "### 함수에 필요하다고 생각되는 기능\n",
        "- 10진법 수를 3진법으로 바꿔주는 기능\n",
        "- 리스트의 순서를 바꿔주는 기능\n",
        "- 3진법을 자연수로 바꿔주는 기능\n",
        "\n",
        "이 세 가지 기능을 합쳐야 한다고 판단!!\n",
        "\n",
        "### 1) 10진법 수를 3진법으로 바꿔주는 기능\n",
        "=> 10진법 수를 3진법의 거꾸로 바꿔주는 기능으로 바꿈 "
      ]
    },
    {
      "cell_type": "code",
      "metadata": {
        "id": "rqkozLPLOGMR",
        "colab": {
          "base_uri": "https://localhost:8080/"
        },
        "outputId": "cb388a45-3a73-41c3-b0d1-86c3ac77fc04"
      },
      "source": [
        "n = 45\n",
        "third_list = []\n",
        "while n//3 > 0:\n",
        "  third_list.append(n%3)\n",
        "  n = n//3\n",
        "third_list.append(n%3)\n",
        "print(third_list)"
      ],
      "execution_count": 1,
      "outputs": [
        {
          "output_type": "stream",
          "text": [
            "[0, 0, 2, 1]\n"
          ],
          "name": "stdout"
        }
      ]
    },
    {
      "cell_type": "markdown",
      "metadata": {
        "id": "ldil14PMh5l6"
      },
      "source": [
        "- 3으로 나눈 나머지를 역순으로 붙여나가는 방법\r\n",
        "- n을 3으로 나눈 몫이 0보다 클 동안 반복해야 하므로 마지막 나머지를 붙이지 못함\r\n",
        "- 그래서 맨 마지막에 나머지를 붙여주었음\r\n",
        "\r\n",
        "### 2) 자연수를 3진법으로 바꿔주는 기능\r\n",
        "=> enumerate를 통해 순서를 뒤집어 추출할 것이기 때문에 이를 대비하여 미리 뒤집어 둠"
      ]
    },
    {
      "cell_type": "code",
      "metadata": {
        "colab": {
          "base_uri": "https://localhost:8080/"
        },
        "id": "ZQFRpEH2hQqR",
        "outputId": "0102a150-9b96-4a9a-da84-358e34a0ed15"
      },
      "source": [
        "third_list = third_list[::-1]\r\n",
        "print(third_list)"
      ],
      "execution_count": 2,
      "outputs": [
        {
          "output_type": "stream",
          "text": [
            "[1, 2, 0, 0]\n"
          ],
          "name": "stdout"
        }
      ]
    },
    {
      "cell_type": "markdown",
      "metadata": {
        "id": "1DPv14YRiH0V"
      },
      "source": [
        "- 여기서 나온 순서가 원래 순서를 3진법으로 바꿨을 때의 숫자임\r\n",
        "- third_list의 역으로 뽑아 넣어주는 기능\r\n",
        "\r\n",
        "### 3) 3진법을 자연수로 바꿔주는 기능\r\n",
        "=> enumerate를 통해 역으로 뽑아서 3진법으로 바꿔주어 최종적인 답을 추출"
      ]
    },
    {
      "cell_type": "code",
      "metadata": {
        "colab": {
          "base_uri": "https://localhost:8080/"
        },
        "id": "AGpY-CpAikyV",
        "outputId": "babf4482-5f86-4341-ea04-d9e4a73564a0"
      },
      "source": [
        "answer = 0\r\n",
        "for i, j in enumerate(third_list):\r\n",
        "  answer = answer + (3**i)*j\r\n",
        "print(answer)"
      ],
      "execution_count": 3,
      "outputs": [
        {
          "output_type": "stream",
          "text": [
            "7\n"
          ],
          "name": "stdout"
        }
      ]
    },
    {
      "cell_type": "markdown",
      "metadata": {
        "id": "VPUHOpv2inyB"
      },
      "source": [
        "- 순서대로 뽑아 3진법의 뒤의 자리수부터 채워줌\r\n",
        "\r\n",
        "### 최종적으로 합쳐주어 완성해보기"
      ]
    },
    {
      "cell_type": "code",
      "metadata": {
        "colab": {
          "base_uri": "https://localhost:8080/"
        },
        "id": "JmLecWZvhmVh",
        "outputId": "4bf8b334-9c11-4907-cd96-6ba0d41e4715"
      },
      "source": [
        "def solution(n):\r\n",
        "    answer = 0\r\n",
        "    third_list = []\r\n",
        "    \r\n",
        "    while n//3 > 0:\r\n",
        "        third_list.append(n%3)\r\n",
        "        n = n//3\r\n",
        "        \r\n",
        "    third_list.append(n%3)\r\n",
        "    third_list = third_list[::-1]\r\n",
        "    \r\n",
        "    for i, j in enumerate(third_list):\r\n",
        "        answer = answer + (3**i)*j\r\n",
        "        \r\n",
        "    return answer\r\n",
        "solution(45)"
      ],
      "execution_count": 4,
      "outputs": [
        {
          "output_type": "execute_result",
          "data": {
            "text/plain": [
              "7"
            ]
          },
          "metadata": {
            "tags": []
          },
          "execution_count": 4
        }
      ]
    },
    {
      "cell_type": "markdown",
      "metadata": {
        "id": "N2WX-DSYh5KJ"
      },
      "source": [
        "- 성공!!\r\n",
        "\r\n",
        "### 다른 사람의 좋은 풀이 보기"
      ]
    },
    {
      "cell_type": "code",
      "metadata": {
        "id": "hnKpIGJbhmof"
      },
      "source": [
        "def solution(n):\r\n",
        "    answer = 0\r\n",
        "    cnt = 1\r\n",
        "    a = ''\r\n",
        "    while n>0:\r\n",
        "        a+=str(n%3)\r\n",
        "        n = n//3\r\n",
        "    print(a)\r\n",
        "    for b in range(len(a),0,-1):\r\n",
        "        answer += (int(a[b-1])*cnt)\r\n",
        "        cnt *= 3\r\n",
        "    return answer"
      ],
      "execution_count": 5,
      "outputs": []
    },
    {
      "cell_type": "markdown",
      "metadata": {
        "id": "WRdQWz4IlPfx"
      },
      "source": [
        "### 풀이를 보고 알게 된 점\r\n",
        "\r\n",
        "- n>0을 while 문의 조건으로 주면 나의 코드에서 필요없는 한 줄을 줄일 수 있다.\r\n",
        "- 변수의 증가를 나타낼 때 덧셈은 +=, 곱셈은 *=으로 나타낼 수 있다."
      ]
    }
  ]
}