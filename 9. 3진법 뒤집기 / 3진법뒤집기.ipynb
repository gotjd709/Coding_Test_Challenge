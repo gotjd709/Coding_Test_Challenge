{
  "nbformat": 4,
  "nbformat_minor": 0,
  "metadata": {
    "colab": {
      "name": " 3진법뒤집기",
      "provenance": [],
      "authorship_tag": "ABX9TyOhS34+WjMouycfHoOES8Za",
      "include_colab_link": true
    },
    "kernelspec": {
      "name": "python3",
      "display_name": "Python 3"
    }
  },
  "cells": [
    {
      "cell_type": "markdown",
      "metadata": {
        "id": "view-in-github",
        "colab_type": "text"
      },
      "source": [
        "<a href=\"https://colab.research.google.com/github/gotjd709/Coding_Test_Challenge/blob/main/9.%203%EC%A7%84%EB%B2%95%20%EB%92%A4%EC%A7%91%EA%B8%B0%20/%203%EC%A7%84%EB%B2%95%EB%92%A4%EC%A7%91%EA%B8%B0.ipynb\" target=\"_parent\"><img src=\"https://colab.research.google.com/assets/colab-badge.svg\" alt=\"Open In Colab\"/></a>"
      ]
    },
    {
      "cell_type": "markdown",
      "metadata": {
        "id": "NQUkLm2sOecx"
      },
      "source": [
        "3진법 뒤집기\n",
        "===\n",
        "\n",
        "필요하다고 생각되는 함수\n",
        "- \n",
        "- \n",
        "\n"
      ]
    },
    {
      "cell_type": "code",
      "metadata": {
        "id": "rqkozLPLOGMR"
      },
      "source": [
        "def solution(n):\n",
        "    answer = 0\n",
        "    return answer"
      ],
      "execution_count": null,
      "outputs": []
    }
  ]
}