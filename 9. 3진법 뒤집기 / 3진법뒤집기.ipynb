{
  "nbformat": 4,
  "nbformat_minor": 0,
  "metadata": {
    "colab": {
      "name": " 3진법뒤집기",
      "provenance": [],
      "authorship_tag": "ABX9TyMUy/y2py664d4XHDUjDXqd",
      "include_colab_link": true
    },
    "kernelspec": {
      "name": "python3",
      "display_name": "Python 3"
    }
  },
  "cells": [
    {
      "cell_type": "markdown",
      "metadata": {
        "id": "view-in-github",
        "colab_type": "text"
      },
      "source": [
        "<a href=\"https://colab.research.google.com/github/gotjd709/Coding_Test_Challenge/blob/main/9.%203%EC%A7%84%EB%B2%95%20%EB%92%A4%EC%A7%91%EA%B8%B0%20/%203%EC%A7%84%EB%B2%95%EB%92%A4%EC%A7%91%EA%B8%B0.ipynb\" target=\"_parent\"><img src=\"https://colab.research.google.com/assets/colab-badge.svg\" alt=\"Open In Colab\"/></a>"
      ]
    },
    {
      "cell_type": "markdown",
      "metadata": {
        "id": "NQUkLm2sOecx"
      },
      "source": [
        "3진법 뒤집기\n",
        "===\n",
        "\n",
        "필요하다고 생각되는 함수\n",
        "- 자연수를 3진법으로 나타내는 함수\n",
        "- 리스트의 순서를 바꿔주는 함수가 필요\n",
        "- 3진법을 자연수로 나타내는 함수\n",
        "\n"
      ]
    },
    {
      "cell_type": "code",
      "metadata": {
        "id": "rqkozLPLOGMR"
      },
      "source": [
        "def solution(n):\n",
        "    answer = 0\n",
        "    return answer"
      ],
      "execution_count": null,
      "outputs": []
    },
    {
      "cell_type": "markdown",
      "metadata": {
        "id": "ldil14PMh5l6"
      },
      "source": [
        "자연수를 3진법으로 바꿔주는 함수"
      ]
    },
    {
      "cell_type": "code",
      "metadata": {
        "id": "JmLecWZvhmVh",
        "outputId": "b9252354-30dc-4c15-a34e-fb93dcdf3f2b",
        "colab": {
          "base_uri": "https://localhost:8080/",
          "height": 134
        }
      },
      "source": [
        "for i in range(10//3):"
      ],
      "execution_count": 3,
      "outputs": [
        {
          "output_type": "error",
          "ename": "SyntaxError",
          "evalue": "ignored",
          "traceback": [
            "\u001b[0;36m  File \u001b[0;32m\"<ipython-input-3-b2a84165f409>\"\u001b[0;36m, line \u001b[0;32m1\u001b[0m\n\u001b[0;31m    for i in 10//3:\u001b[0m\n\u001b[0m                   ^\u001b[0m\n\u001b[0;31mSyntaxError\u001b[0m\u001b[0;31m:\u001b[0m unexpected EOF while parsing\n"
          ]
        }
      ]
    },
    {
      "cell_type": "markdown",
      "metadata": {
        "id": "N2WX-DSYh5KJ"
      },
      "source": [
        "리스트의 순서를 바꿔주는 함수"
      ]
    },
    {
      "cell_type": "code",
      "metadata": {
        "id": "hnKpIGJbhmof",
        "outputId": "6b324847-852a-477a-8989-acdc81493a63",
        "colab": {
          "base_uri": "https://localhost:8080/"
        }
      },
      "source": [
        "third = [1, 2, 3, 4, 5]\r\n",
        "third = third[::-1]\r\n",
        "print(third)"
      ],
      "execution_count": 1,
      "outputs": [
        {
          "output_type": "stream",
          "text": [
            "[5, 4, 3, 2, 1]\n"
          ],
          "name": "stdout"
        }
      ]
    },
    {
      "cell_type": "code",
      "metadata": {
        "id": "cf6tyi-qhmy1"
      },
      "source": [
        ""
      ],
      "execution_count": null,
      "outputs": []
    },
    {
      "cell_type": "code",
      "metadata": {
        "id": "D5MUeVonhm7G"
      },
      "source": [
        ""
      ],
      "execution_count": null,
      "outputs": []
    }
  ]
}