{
  "nbformat": 4,
  "nbformat_minor": 0,
  "metadata": {
    "colab": {
      "name": "모의고사",
      "provenance": [],
      "collapsed_sections": [],
      "authorship_tag": "ABX9TyPEocOJ6fdGTJwUwQkrp1ua",
      "include_colab_link": true
    },
    "kernelspec": {
      "name": "python3",
      "display_name": "Python 3"
    }
  },
  "cells": [
    {
      "cell_type": "markdown",
      "metadata": {
        "id": "view-in-github",
        "colab_type": "text"
      },
      "source": [
        "<a href=\"https://colab.research.google.com/github/gotjd709/Coding_Test_Challenge/blob/main/2.%20%EB%AA%A8%EC%9D%98%EA%B3%A0%EC%82%AC%20/%20%EB%AA%A8%EC%9D%98%EA%B3%A0%EC%82%AC.ipynb\" target=\"_parent\"><img src=\"https://colab.research.google.com/assets/colab-badge.svg\" alt=\"Open In Colab\"/></a>"
      ]
    },
    {
      "cell_type": "code",
      "metadata": {
        "id": "klldnu7zJZIg"
      },
      "source": [
        "# 알아야 할 개념 : 완전탐색\n",
        "# => 가능한 방법을 전부 만들어 보는 알고리즘\n",
        "\n",
        "## Brute Force: for문과 if문을 이용하여 처음부터 끝까지 탐색\n",
        "## 비트마스크: 정수의 이진수 표현을 활용한 기법\n",
        "## 순열: 순서대로 나열하는 방법의 수\n",
        "## 백트래수: 한정조건을 가진 문제를 풀려는 전략\n",
        "## 너비우선탐색(BFS): 루트노드에서 시작해서 인접한 노드를 먼저 탐색하는 방법"
      ],
      "execution_count": null,
      "outputs": []
    },
    {
      "cell_type": "code",
      "metadata": {
        "id": "c_0cpPNdNGAu",
        "colab": {
          "base_uri": "https://localhost:8080/"
        },
        "outputId": "b717b352-fa44-49ce-8259-855234f5510b"
      },
      "source": [
        "# 초기에 주어진 함수\n",
        "\n",
        "def solution(answers):\n",
        "    answer = []\n",
        "    one = [1, 2, 3, 4, 5, 1, 2, 3, 4, 5]*1000\n",
        "    two = [2, 1, 2, 3, 2, 4, 2, 5]*1250\n",
        "    thr = [3, 3, 1, 1, 2, 2, 4, 4, 5, 5]*1000\n",
        "    onec = 0\n",
        "    twoc = 0\n",
        "    thrc = 0\n",
        "\n",
        "    for i in range(0, len(answer)):\n",
        "      if answer[i] == one[i]:\n",
        "        onec = onec + 1\n",
        "      if answer[i] == two[i]:\n",
        "        twoc = twoc + 1\n",
        "      if answer[i] == thr[i]:\n",
        "        thrc = thrc + 1\n",
        "\n",
        "    if onec == twoc:\n",
        "      if onec == thrc:\n",
        "        answer = [1,2,3]\n",
        "      elif onec > thrc:\n",
        "        answer = [1,2]\n",
        "      else:\n",
        "        answer = [3]\n",
        "    elif onec > twoc:\n",
        "      if onec > thrc:\n",
        "        answer = [1]\n",
        "      elif onec == thrc:\n",
        "        answer = [1,3]\n",
        "      else:\n",
        "        answer = [3]\n",
        "    else:\n",
        "      if twoc > thrc:\n",
        "        answer = [2]\n",
        "      elif twoc == thrc:\n",
        "        answer = [2,3]\n",
        "    return answer   \n",
        "\n",
        "\n",
        "solution([1, 2, 3, 4, 5])"
      ],
      "execution_count": 31,
      "outputs": [
        {
          "output_type": "execute_result",
          "data": {
            "text/plain": [
              "[1, 2, 3]"
            ]
          },
          "metadata": {
            "tags": []
          },
          "execution_count": 31
        }
      ]
    },
    {
      "cell_type": "code",
      "metadata": {
        "colab": {
          "base_uri": "https://localhost:8080/"
        },
        "id": "alwMEIuskuDE",
        "outputId": "5487e734-56d5-4bc8-edde-1ea32551a2cf"
      },
      "source": [
        "    answer = [1, 2, 3, 4, 5]\n",
        "    one = [1, 2, 3, 4, 5, 1, 2, 3, 4, 5]*1000\n",
        "    two = [2, 1, 2, 3, 2, 4, 2, 5]*1250\n",
        "    thr = [3, 3, 1, 1, 2, 2, 4, 4, 5, 5]*1000\n",
        "    onec = 0\n",
        "    twoc = 0\n",
        "    thrc = 0\n",
        "\n",
        "    for i in range(0, len(answer)):\n",
        "      if answer[i] == one[i]:\n",
        "        onec += 1\n",
        "      if answer[i] == two[i]:\n",
        "        twoc += 1\n",
        "      if answer[i] == thr[i]:\n",
        "        thrc += 1\n",
        "\n",
        "    if onec == twoc:\n",
        "      if onec == thrc:\n",
        "        answer = [1,2,3]\n",
        "      elif onec > thrc:\n",
        "        answer = [1,2]\n",
        "      else:\n",
        "        answer = [3]\n",
        "    elif onec > twoc:\n",
        "      if onec > thrc:\n",
        "        answer = [1]\n",
        "      elif onec == thrc:\n",
        "        answer = [1,3]\n",
        "      else:\n",
        "        answer = [3]\n",
        "    else:\n",
        "      if twoc > thrc:\n",
        "        answer = [2]\n",
        "      elif twoc == thrc:\n",
        "        answer = [2,3]\n",
        "\n",
        "    print(answer)"
      ],
      "execution_count": 32,
      "outputs": [
        {
          "output_type": "stream",
          "text": [
            "[1]\n"
          ],
          "name": "stdout"
        }
      ]
    },
    {
      "cell_type": "code",
      "metadata": {
        "id": "J9PuE52R9BPx"
      },
      "source": [
        ""
      ],
      "execution_count": null,
      "outputs": []
    }
  ]
}