{
  "nbformat": 4,
  "nbformat_minor": 0,
  "metadata": {
    "colab": {
      "name": "모의고사",
      "provenance": [],
      "collapsed_sections": [],
      "authorship_tag": "ABX9TyP1VTZDvAbSwbuh2Q/Og6Ld",
      "include_colab_link": true
    },
    "kernelspec": {
      "name": "python3",
      "display_name": "Python 3"
    }
  },
  "cells": [
    {
      "cell_type": "markdown",
      "metadata": {
        "id": "view-in-github",
        "colab_type": "text"
      },
      "source": [
        "<a href=\"https://colab.research.google.com/github/gotjd709/Coding_Test_Challenge/blob/main/2.%20%EB%AA%A8%EC%9D%98%EA%B3%A0%EC%82%AC%20/%20%EB%AA%A8%EC%9D%98%EA%B3%A0%EC%82%AC.ipynb\" target=\"_parent\"><img src=\"https://colab.research.google.com/assets/colab-badge.svg\" alt=\"Open In Colab\"/></a>"
      ]
    },
    {
      "cell_type": "code",
      "metadata": {
        "id": "klldnu7zJZIg"
      },
      "source": [
        "# 알아야 할 개념 : 완전탐색\n",
        "# => 가능한 방법을 전부 만들어 보는 알고리즘\n",
        "\n",
        "## Brute Force: for문과 if문을 이용하여 처음부터 끝까지 탐색\n",
        "## 비트마스크: 정수의 이진수 표현을 활용한 기법\n",
        "## 순열: 순서대로 나열하는 방법의 수\n",
        "## 백트래수: 한정조건을 가진 문제를 풀려는 전략\n",
        "## 너비우선탐색(BFS): 루트노드에서 시작해서 인접한 노드를 먼저 탐색하는 방법\n"
      ],
      "execution_count": null,
      "outputs": []
    },
    {
      "cell_type": "code",
      "metadata": {
        "id": "c_0cpPNdNGAu",
        "colab": {
          "base_uri": "https://localhost:8080/"
        },
        "outputId": "4ca7632b-ce2e-413c-ded8-e23a90f068da"
      },
      "source": [
        "# 초기에 주어진 함수\n",
        "\n",
        "def solution(answers):\n",
        "    answer = []\n",
        "    one = [1, 2, 3, 4, 5, 1, 2, 3, 4, 5]*1000\n",
        "    two = [2, 1, 2, 3, 2, 4, 2, 5]*1250\n",
        "    thr = [3, 3, 1, 1, 2, 2, 4, 4, 5, 5]*1000\n",
        "    onec = 0\n",
        "    twoc = 0\n",
        "    thrc = 0\n",
        "\n",
        "    for i in range(0, len(answer)):\n",
        "      if answer[i] == one[i]:\n",
        "        onec += 1\n",
        "      if answer[i] == two[i]:\n",
        "        twoc += 1\n",
        "      if answer[i] == thr[i]:\n",
        "        thrc += 1\n",
        "\n",
        "    if onec == twoc:\n",
        "      if onec == thrc:\n",
        "        answer = [1,2,3]\n",
        "      elif onec > thrc:\n",
        "        answer = [1,2]\n",
        "      else:\n",
        "        answer = [3]\n",
        "    elif onec > twoc:\n",
        "      if onec > thrc:\n",
        "        answer = [1]\n",
        "      elif onec == thrc:\n",
        "        answer = [1,3]\n",
        "      else:\n",
        "        answer = [3]\n",
        "    else:\n",
        "      if twoc > thrc:\n",
        "        answer = [2]\n",
        "      elif twoc == thrc:\n",
        "        answer = [2,3]\n",
        "    return answer   \n",
        "\n",
        "\n",
        "solution([1, 2, 3, 4, 5])"
      ],
      "execution_count": 1,
      "outputs": [
        {
          "output_type": "execute_result",
          "data": {
            "text/plain": [
              "[1, 2, 3]"
            ]
          },
          "metadata": {
            "tags": []
          },
          "execution_count": 1
        }
      ]
    },
    {
      "cell_type": "code",
      "metadata": {
        "colab": {
          "base_uri": "https://localhost:8080/"
        },
        "id": "alwMEIuskuDE",
        "outputId": "5487e734-56d5-4bc8-edde-1ea32551a2cf"
      },
      "source": [
        "# 함수밖에서 진행\n",
        "    answer = [1, 2, 3, 4, 5]\n",
        "    one = [1, 2, 3, 4, 5, 1, 2, 3, 4, 5]*1000\n",
        "    two = [2, 1, 2, 3, 2, 4, 2, 5]*1250\n",
        "    thr = [3, 3, 1, 1, 2, 2, 4, 4, 5, 5]*1000\n",
        "    onec = 0\n",
        "    twoc = 0\n",
        "    thrc = 0\n",
        "\n",
        "    for i in range(0, len(answer)):\n",
        "      if answer[i] == one[i]:\n",
        "        onec += 1\n",
        "      if answer[i] == two[i]:\n",
        "        twoc += 1\n",
        "      if answer[i] == thr[i]:\n",
        "        thrc += 1\n",
        "\n",
        "    if onec == twoc:\n",
        "      if onec == thrc:\n",
        "        answer = [1,2,3]\n",
        "      elif onec > thrc:\n",
        "        answer = [1,2]\n",
        "      else:\n",
        "        answer = [3]\n",
        "    elif onec > twoc:\n",
        "      if onec > thrc:\n",
        "        answer = [1]\n",
        "      elif onec == thrc:\n",
        "        answer = [1,3]\n",
        "      else:\n",
        "        answer = [3]\n",
        "    else:\n",
        "      if twoc > thrc:\n",
        "        answer = [2]\n",
        "      elif twoc == thrc:\n",
        "        answer = [2,3]\n",
        "\n",
        "    print(answer)"
      ],
      "execution_count": null,
      "outputs": [
        {
          "output_type": "stream",
          "text": [
            "[1]\n"
          ],
          "name": "stdout"
        }
      ]
    },
    {
      "cell_type": "code",
      "metadata": {
        "colab": {
          "base_uri": "https://localhost:8080/"
        },
        "id": "j2a-us2ZYnuq",
        "outputId": "5a0e4e30-2223-4994-fedf-208205b7010c"
      },
      "source": [
        "# 다른 사람의 풀이1\n",
        "\n",
        "def solution(answers):\n",
        "    answer = []\n",
        "    answer_sheet = []\n",
        "    one = [1, 2, 3, 4, 5]\n",
        "    two = [2, 1, 2, 3, 2, 4, 2, 5]\n",
        "    thr = [3, 3, 1, 1, 2, 2, 4, 4, 5, 5]\n",
        "    onec = 0\n",
        "    twoc = 0\n",
        "    thrc = 0\n",
        "\n",
        "    for i in range(0, len(answer)):\n",
        "      if answer[i] == one[i%len(one)]:\n",
        "        onec += 1\n",
        "      if answer[i] == two[i%len(two)]:\n",
        "        twoc += 1\n",
        "      if answer[i] == thr[i%len(thr)]:\n",
        "        thrc += 1\n",
        "\n",
        "    answer_sheet = [onec, twoc, thrc]\n",
        "\n",
        "    for a, b in enumerate(answer_sheet):\n",
        "      if b == max(answer_sheet):\n",
        "        answer.append(a+1)\n",
        "\n",
        "    return answer  \n",
        "\n",
        "\n",
        "solution([2, 1, 2, 3, 2, 4, 2, 5])"
      ],
      "execution_count": 18,
      "outputs": [
        {
          "output_type": "execute_result",
          "data": {
            "text/plain": [
              "[1, 2, 3]"
            ]
          },
          "metadata": {
            "tags": []
          },
          "execution_count": 18
        }
      ]
    },
    {
      "cell_type": "code",
      "metadata": {
        "colab": {
          "base_uri": "https://localhost:8080/"
        },
        "id": "PD7GQcANh4za",
        "outputId": "46ef7da1-6755-4c9c-96bf-85ed96ff23f7"
      },
      "source": [
        "# 다른 사람의 풀이 2\n",
        "\n",
        "def solution(answers):\n",
        "    answer = []\n",
        "    answer_sheet = []\n",
        "    one = [1, 2, 3, 4, 5]\n",
        "    two = [2, 1, 2, 3, 2, 4, 2, 5]\n",
        "    thr = [3, 3, 1, 1, 2, 2, 4, 4, 5, 5]\n",
        "    onec = 0\n",
        "    twoc = 0\n",
        "    thrc = 0\n",
        "\n",
        "    for i in range(0, len(answer)):\n",
        "      if answer[i] == one[i%len(one)]:\n",
        "        onec += 1\n",
        "      if answer[i] == two[i%len(two)]:\n",
        "        twoc += 1\n",
        "      if answer[i] == thr[i%len(thr)]:\n",
        "        thrc += 1\n",
        "\n",
        "    answer_sheet = max(onec, twoc, thrc)\n",
        "\n",
        "    if answer_sheet == onec:\n",
        "      answer.append(1)\n",
        "    if answer_sheet == twoc:\n",
        "      answer.append(2)\n",
        "    if answer_sheet == thrc:\n",
        "      answer.append(3)\n",
        "    \n",
        "    return answer\n",
        "\n",
        "\n",
        "solution([2, 1, 2, 3, 2, 4, 2, 5])"
      ],
      "execution_count": 20,
      "outputs": [
        {
          "output_type": "execute_result",
          "data": {
            "text/plain": [
              "[1, 2, 3]"
            ]
          },
          "metadata": {
            "tags": []
          },
          "execution_count": 20
        }
      ]
    },
    {
      "cell_type": "code",
      "metadata": {
        "id": "J9PuE52R9BPx"
      },
      "source": [
        "# 알아둘 내용\n",
        "\n",
        "# for문에서 for a, b in dic{1:2, 3:4}가 되면 a는 1,3 b는 2,4 와 같은 방식으로 진행\n",
        "\n",
        "# enumerate: 주로 for문과 같이 쓰며 순서와 리스트 값을 전해주는 역할 \n",
        "\n",
        "# skill: i%len(list) list안의 원소들을 반복가능!\n",
        "\n",
        "# skill: for a, b in dic 에서 list.append(a+1)를 하면 붙여넣기가 가능함"
      ],
      "execution_count": null,
      "outputs": []
    }
  ]
}