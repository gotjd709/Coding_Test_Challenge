{
  "nbformat": 4,
  "nbformat_minor": 0,
  "metadata": {
    "colab": {
      "name": "수박수박수박수박수박수?.ipynb",
      "provenance": [],
      "collapsed_sections": [],
      "authorship_tag": "ABX9TyNzkTSK66saJ2kMZu9O3mg2",
      "include_colab_link": true
    },
    "kernelspec": {
      "name": "python3",
      "display_name": "Python 3"
    }
  },
  "cells": [
    {
      "cell_type": "markdown",
      "metadata": {
        "id": "view-in-github",
        "colab_type": "text"
      },
      "source": [
        "<a href=\"https://colab.research.google.com/github/gotjd709/Coding_Test_Challenge/blob/main/10.%20%EC%88%98%EB%B0%95%EC%88%98%EB%B0%95%EC%88%98%EB%B0%95%EC%88%98%EB%B0%95%EC%88%98%EB%B0%95%EC%88%98%3F%20/%20%EC%88%98%EB%B0%95%EC%88%98%EB%B0%95%EC%88%98%EB%B0%95%EC%88%98%EB%B0%95%EC%88%98%EB%B0%95%EC%88%98%3F.ipynb\" target=\"_parent\"><img src=\"https://colab.research.google.com/assets/colab-badge.svg\" alt=\"Open In Colab\"/></a>"
      ]
    },
    {
      "cell_type": "markdown",
      "metadata": {
        "id": "J4mdHSqg6Q5C"
      },
      "source": [
        "수박수박수박수박수박수?\r\n",
        "===\r\n",
        "필요하다고 판단되는 기능\r\n",
        "- 리스트활용능력\r\n",
        "\r\n",
        "### 나의 풀이"
      ]
    },
    {
      "cell_type": "code",
      "metadata": {
        "id": "WIy4zHRH6FG8"
      },
      "source": [
        "def solution(n):\r\n",
        "    answer = ''\r\n",
        "    for i in range(1,n+1):\r\n",
        "        if i % 2 == 1:\r\n",
        "            answer = answer + '수'\r\n",
        "        elif i % 2 == 0:\r\n",
        "            answer = answer + '박'\r\n",
        "    return answer"
      ],
      "execution_count": 1,
      "outputs": []
    },
    {
      "cell_type": "markdown",
      "metadata": {
        "id": "qPCkLVxv8hSy"
      },
      "source": [
        "문제점: 명로하지 않다.\r\n",
        "=> for문과 if문이 모두 쓰였고 코드길이가 길다.\r\n",
        "\r\n",
        "### 다른 사람의 더 좋은 풀이"
      ]
    },
    {
      "cell_type": "code",
      "metadata": {
        "id": "QTyS_x0E8f9-"
      },
      "source": [
        "def water_melon(n):\r\n",
        "    s = \"수박\" * n\r\n",
        "    return s[:n]"
      ],
      "execution_count": 2,
      "outputs": []
    },
    {
      "cell_type": "markdown",
      "metadata": {
        "id": "fGf3EwKT6Usy"
      },
      "source": [
        "해석:\r\n",
        "- 수박문자열의 길이가 뽑아내야하는 것보다 길기만 하면 상관이 없다.\r\n",
        "- 따라서, 넉넉하게 n을 곱하여 늘려준다..\r\n",
        "- 출력되는 값은 리스트의 []를 사용하여 필요한 만큼만 출력한다."
      ]
    },
    {
      "cell_type": "code",
      "metadata": {
        "id": "EJYh1aEU6QD_"
      },
      "source": [
        ""
      ],
      "execution_count": null,
      "outputs": []
    }
  ]
}