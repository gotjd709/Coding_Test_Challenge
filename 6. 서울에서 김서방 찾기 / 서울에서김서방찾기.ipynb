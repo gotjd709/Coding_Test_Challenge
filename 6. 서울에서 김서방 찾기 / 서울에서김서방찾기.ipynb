{
  "nbformat": 4,
  "nbformat_minor": 0,
  "metadata": {
    "colab": {
      "name": "서울에서김서방찾기",
      "provenance": [],
      "authorship_tag": "ABX9TyMVCoFHpYEBK4k5aghHX8qJ",
      "include_colab_link": true
    },
    "kernelspec": {
      "name": "python3",
      "display_name": "Python 3"
    }
  },
  "cells": [
    {
      "cell_type": "markdown",
      "metadata": {
        "id": "view-in-github",
        "colab_type": "text"
      },
      "source": [
        "<a href=\"https://colab.research.google.com/github/gotjd709/Coding_Test_Challenge/blob/main/6.%20%EC%84%9C%EC%9A%B8%EC%97%90%EC%84%9C%20%EA%B9%80%EC%84%9C%EB%B0%A9%20%EC%B0%BE%EA%B8%B0%20/%20%EC%84%9C%EC%9A%B8%EC%97%90%EC%84%9C%EA%B9%80%EC%84%9C%EB%B0%A9%EC%B0%BE%EA%B8%B0.ipynb\" target=\"_parent\"><img src=\"https://colab.research.google.com/assets/colab-badge.svg\" alt=\"Open In Colab\"/></a>"
      ]
    },
    {
      "cell_type": "markdown",
      "metadata": {
        "id": "3qc0DloqaD0T"
      },
      "source": [
        "# 서울에서 김서방찾기\r\n",
        "\r\n",
        "### 나의 풀이"
      ]
    },
    {
      "cell_type": "code",
      "metadata": {
        "colab": {
          "base_uri": "https://localhost:8080/",
          "height": 35
        },
        "id": "pWWq7B7vQP5F",
        "outputId": "c7e411d4-b407-4faa-e59f-8fcb681a4601"
      },
      "source": [
        "def solution(seoul):\r\n",
        "    return \"김서방은 %d에 있다\" % seoul.index(\"Kim\")\r\n",
        "\r\n",
        "solution([\"Jane\", \"Kim\"])"
      ],
      "execution_count": 1,
      "outputs": [
        {
          "output_type": "execute_result",
          "data": {
            "application/vnd.google.colaboratory.intrinsic+json": {
              "type": "string"
            },
            "text/plain": [
              "'김서방은 1에 있다'"
            ]
          },
          "metadata": {
            "tags": []
          },
          "execution_count": 1
        }
      ]
    },
    {
      "cell_type": "markdown",
      "metadata": {
        "id": "KyuknsfTlLOY"
      },
      "source": [
        "### 핵심이 되는 함수\r\n",
        "list.index(\"Kim\") : list에서 \"Kim\"이 있는 곳의 위치를 반환하는 함수\r\n",
        "\r\n"
      ]
    },
    {
      "cell_type": "markdown",
      "metadata": {
        "id": "BJZBgeRgmCb1"
      },
      "source": [
        "### 생각했던 다른 방법\r\n",
        "\r\n",
        "enumerate(list) : list의 값은 value가 되며 list의 순서가 key가 되어 딕셔너리를 만드는 함수\r\n",
        "\r\n",
        "dictionary.get('key1'} : key1에 해당하는 value를 가져옴\r\n",
        "\r\n",
        "#### **딕셔너리 뒤집기**\r\n",
        "{v:k for k,v in enumerate(list).items() }\r\n"
      ]
    },
    {
      "cell_type": "code",
      "metadata": {
        "id": "2J9m1bu3nb_J",
        "outputId": "bd811db8-7e5c-49bc-daec-dcc085e70a30",
        "colab": {
          "base_uri": "https://localhost:8080/",
          "height": 35
        }
      },
      "source": [
        "def solution(seoul):\r\n",
        "    return \"김서방은 %d에 있다\" %{v:f for f,v in enumerate([\"Jane\", \"Kim\"])}.get('Kim')\r\n",
        "\r\n",
        "solution([\"Jane\", \"Kim\"])"
      ],
      "execution_count": 2,
      "outputs": [
        {
          "output_type": "execute_result",
          "data": {
            "application/vnd.google.colaboratory.intrinsic+json": {
              "type": "string"
            },
            "text/plain": [
              "'김서방은 1에 있다'"
            ]
          },
          "metadata": {
            "tags": []
          },
          "execution_count": 2
        }
      ]
    }
  ]
}