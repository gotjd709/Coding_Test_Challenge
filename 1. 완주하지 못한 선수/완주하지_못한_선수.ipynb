{
  "nbformat": 4,
  "nbformat_minor": 0,
  "metadata": {
    "colab": {
      "name": "완주하지 못한 선수.ipynb",
      "provenance": [],
      "collapsed_sections": []
    },
    "kernelspec": {
      "name": "python3",
      "display_name": "Python 3"
    }
  },
  "cells": [
    {
      "cell_type": "code",
      "metadata": {
        "colab": {
          "base_uri": "https://localhost:8080/"
        },
        "id": "Y34z2ETd3hqt",
        "outputId": "7ef4f44b-bd35-42e3-89e0-8e98e8487a40"
      },
      "source": [
        "# 제한사항\r\n",
        "\r\n",
        "# 마라톤 경기에 참여한 선수의 수는 1명 이상 100,000명 이하 입니다.\r\n",
        "\r\n",
        "import random\r\n",
        "len(participant_list) = random.randint(1, 100000)\r\n",
        "\r\n",
        "# completion의 길이는 participant의 길이보다 1 작습니다.\r\n",
        "\r\n",
        "len(completion_list) = len(participant_list) - 1\r\n",
        "\r\n",
        "# 참가자의 이름은 1개 이상 20개 이하의 알파벳 소문자로 이루어져 있습니다.\r\n",
        "\r\n",
        "participant = str(participant)\r\n",
        "\r\n",
        "# 참가자 중에는 동명이인이 있을 수 있습니다.\r\n",
        "\r\n",
        "# 알아야할 사항 문자열 해싱"
      ],
      "execution_count": null,
      "outputs": [
        {
          "output_type": "execute_result",
          "data": {
            "text/plain": [
              "[]"
            ]
          },
          "metadata": {
            "tags": []
          },
          "execution_count": 13
        }
      ]
    },
    {
      "cell_type": "code",
      "metadata": {
        "colab": {
          "base_uri": "https://localhost:8080/"
        },
        "id": "ejcu0bYPu_14",
        "outputId": "e5688b6b-4fcb-4dbd-8795-26a593e4a4b6"
      },
      "source": [
        "### 모르고 있던 사항 1\n",
        "babo = [\"leo\", \"kiki\", \"eden\"]\n",
        "len(babo) \n",
        "# 리스트에서 len을 구하면 안에 들어있는 원소들의 수를 구해줌 \n",
        "# 원소들의 문자길이 다 포함해서 구해주는 것이 아님\n",
        "\n",
        "### 모르고 있던 사항 2\n",
        "print(babo[2])\n",
        "# 리스트에서 [n]을 해주면 n+1번 째 원소의 값을 출력함"
      ],
      "execution_count": null,
      "outputs": [
        {
          "output_type": "stream",
          "text": [
            "eden\n"
          ],
          "name": "stdout"
        }
      ]
    },
    {
      "cell_type": "code",
      "metadata": {
        "id": "A5Rd7ONRyjU2"
      },
      "source": [
        "### 본 문제\n",
        "def solution(participant, completion):\n",
        "    answer = ''\n",
        "    completion.sort()\n",
        "    participant.sort()\n",
        "    for i in range(0, len(completion)):\n",
        "      if participant[i] != completion[i]:\n",
        "        answer = participant[i]\n",
        "        break\n",
        "    return answer"
      ],
      "execution_count": null,
      "outputs": []
    },
    {
      "cell_type": "code",
      "metadata": {
        "colab": {
          "base_uri": "https://localhost:8080/"
        },
        "id": "adMZKhR64EWL",
        "outputId": "5446c08c-da61-467e-c88e-ba3dc7828eb7"
      },
      "source": [
        "# 돌려보기 # 성공???\r\n",
        "babo = [\"leo\", \"kiki\", \"eden\", \"mami\", \"eden\"]\r\n",
        "babo.sort()\r\n",
        "print(babo)\r\n",
        "\r\n",
        "bobo = [\"leo\", \"eden\", \"mami\", \"eden\"]\r\n",
        "bobo.sort()\r\n",
        "print(bobo)\r\n",
        "\r\n",
        "ladi = ''\r\n",
        "\r\n",
        "for i in range(0, len(bobo)):\r\n",
        "  if babo[i] != bobo[i]:\r\n",
        "    ladi = babo[i]\r\n",
        "    break\r\n",
        "print(ladi)"
      ],
      "execution_count": null,
      "outputs": [
        {
          "output_type": "stream",
          "text": [
            "['eden', 'eden', 'kiki', 'leo', 'mami']\n",
            "['eden', 'eden', 'leo', 'mami']\n",
            "kiki\n"
          ],
          "name": "stdout"
        }
      ]
    },
    {
      "cell_type": "code",
      "metadata": {
        "colab": {
          "base_uri": "https://localhost:8080/"
        },
        "id": "YDPNNrzb53y4",
        "outputId": "e4b31605-e265-4175-8392-0f53c033ef5f"
      },
      "source": [
        "# 맨 뒤에 있을 경우 안되는 것을 고려해야함\n",
        "\n",
        "babo = [\"leo\", \"kiki\", \"eden\"]\n",
        "babo.sort()\n",
        "print(babo)\n",
        "\n",
        "bobo = [\"eden\", \"kiki\"]\n",
        "bobo.sort()\n",
        "print(bobo)\n",
        "\n",
        "ladi = ''\n",
        "\n",
        "for i in range(0, len(bobo)):\n",
        "  if babo[i] != bobo[i]:\n",
        "    ladi = babo[i]\n",
        "    break\n",
        "  if len(ladi) == 0:\n",
        "    ladi = babo[len(bobo)]\n",
        "print(ladi)"
      ],
      "execution_count": null,
      "outputs": [
        {
          "output_type": "stream",
          "text": [
            "['eden', 'kiki', 'leo']\n",
            "['eden', 'kiki']\n",
            "leo\n"
          ],
          "name": "stdout"
        }
      ]
    },
    {
      "cell_type": "code",
      "metadata": {
        "id": "c9uLkF5m9hM5"
      },
      "source": [
        "## 최종\n",
        "\n",
        "def solution(participant, completion):\n",
        "    answer = ''\n",
        "    participant.sort()\n",
        "    completion.sort()\n",
        "    for i in range(0, len(completion)):\n",
        "        if participant[i] != completion[i]:\n",
        "            answer = participant[i]\n",
        "            break\n",
        "    if len(answer) == 0:\n",
        "        answer = participant[len(completion)]    \n",
        "    return answer"
      ],
      "execution_count": null,
      "outputs": []
    },
    {
      "cell_type": "code",
      "metadata": {
        "id": "VZGtSuWy-FDj"
      },
      "source": [
        "### 매우 간결한 풀이\n",
        "import collections\n",
        "\n",
        "\n",
        "def solution(participant, completion):\n",
        "    answer = collections.Counter(participant) - collections.Counter(completion)\n",
        "    return list(answer.keys())[0]\n",
        "\n",
        "# counter 공부해볼것"
      ],
      "execution_count": null,
      "outputs": []
    }
  ]
}