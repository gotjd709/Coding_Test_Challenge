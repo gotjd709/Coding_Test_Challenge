{
  "nbformat": 4,
  "nbformat_minor": 0,
  "metadata": {
    "colab": {
      "name": "K번째수.ipynb",
      "provenance": [],
      "authorship_tag": "ABX9TyM7f7WW09sADm5vWVvDGunb",
      "include_colab_link": true
    },
    "kernelspec": {
      "name": "python3",
      "display_name": "Python 3"
    }
  },
  "cells": [
    {
      "cell_type": "markdown",
      "metadata": {
        "id": "view-in-github",
        "colab_type": "text"
      },
      "source": [
        "<a href=\"https://colab.research.google.com/github/gotjd709/Coding_Test_Challenge/blob/main/3.%20K%EB%B2%88%EC%A7%B8%EC%88%98%20/%20K%EB%B2%88%EC%A7%B8%EC%88%98.ipynb\" target=\"_parent\"><img src=\"https://colab.research.google.com/assets/colab-badge.svg\" alt=\"Open In Colab\"/></a>"
      ]
    },
    {
      "cell_type": "code",
      "metadata": {
        "id": "BLt8gnarMFML"
      },
      "source": [
        "# 정렬을 이용한 문제 풀이!\n",
        "\n"
      ],
      "execution_count": null,
      "outputs": []
    },
    {
      "cell_type": "code",
      "metadata": {
        "id": "ywnf8jt6MeBx"
      },
      "source": [
        "# 주어진 조건\n",
        "def solution(array, commands):\n",
        "    answer = []\n",
        "    return answer"
      ],
      "execution_count": null,
      "outputs": []
    },
    {
      "cell_type": "code",
      "metadata": {
        "id": "Bj71jiTEMi76"
      },
      "source": [
        "# 나의 풀이\n",
        "def solution(array, commands):\n",
        "    answer = []\n",
        "    key = array\n",
        "    return answer"
      ],
      "execution_count": null,
      "outputs": []
    },
    {
      "cell_type": "code",
      "metadata": {
        "colab": {
          "base_uri": "https://localhost:8080/"
        },
        "id": "WdFIL80VMppC",
        "outputId": "ba434fd8-33fd-4ed4-e7b6-7eb74115e992"
      },
      "source": [
        "array = [1,5,2,6,3,7,4]\n",
        "commands = [2, 5, 3]\n",
        "commands[0]\n",
        "key = [array for i in range(0, commands[0])]\n",
        "print(key)\n"
      ],
      "execution_count": 12,
      "outputs": [
        {
          "output_type": "stream",
          "text": [
            "[[1, 5, 2, 6, 3, 7, 4], [1, 5, 2, 6, 3, 7, 4]]\n"
          ],
          "name": "stdout"
        }
      ]
    }
  ]
}