{
  "nbformat": 4,
  "nbformat_minor": 0,
  "metadata": {
    "colab": {
      "name": "K번째수.ipynb",
      "provenance": [],
      "authorship_tag": "ABX9TyOEBYT2i0zAAW7fOeXEmF1w",
      "include_colab_link": true
    },
    "kernelspec": {
      "name": "python3",
      "display_name": "Python 3"
    }
  },
  "cells": [
    {
      "cell_type": "markdown",
      "metadata": {
        "id": "view-in-github",
        "colab_type": "text"
      },
      "source": [
        "<a href=\"https://colab.research.google.com/github/gotjd709/Coding_Test_Challenge/blob/main/3.%20K%EB%B2%88%EC%A7%B8%EC%88%98%20/%20K%EB%B2%88%EC%A7%B8%EC%88%98.ipynb\" target=\"_parent\"><img src=\"https://colab.research.google.com/assets/colab-badge.svg\" alt=\"Open In Colab\"/></a>"
      ]
    },
    {
      "cell_type": "markdown",
      "metadata": {
        "id": "1cSzpbh43HHR"
      },
      "source": [
        "K 번째 수\r\n",
        "===\r\n",
        "\r\n",
        "* 핵심: 정렬\r\n",
        "---\r\n",
        "### 주어진 조건"
      ]
    },
    {
      "cell_type": "code",
      "metadata": {
        "id": "ywnf8jt6MeBx"
      },
      "source": [
        "def solution(array, commands):\n",
        "    answer = []\n",
        "    return answer"
      ],
      "execution_count": null,
      "outputs": []
    },
    {
      "cell_type": "markdown",
      "metadata": {
        "id": "gXEMiHdK3gsa"
      },
      "source": [
        "### 필요할 것이라 생각되는 함수\r\n",
        "- sorted(): 정렬을 위해\r\n",
        "- for 문 + append(): 이어붙이기 위해\r\n",
        "- 2차원 리스트에서 list[i][j]: list 안 i번째 리스트 중 j번째 원소\r\n",
        "\r\n",
        "---\r\n",
        "### 함수없이 첫번째 리스트에 대해서만 해보기"
      ]
    },
    {
      "cell_type": "code",
      "metadata": {
        "id": "Bj71jiTEMi76",
        "colab": {
          "base_uri": "https://localhost:8080/"
        },
        "outputId": "293dc438-9e42-405f-8cf5-1dd9066b1567"
      },
      "source": [
        "\n",
        "array = [1,5,2,6,3,7,4]\n",
        "commands = [[2, 5, 3], [4, 4, 1], [1, 7, 3]]\n",
        "answer = []\n",
        "c1 = []\n",
        "c2 = []\n",
        "for i in range(commands[0][0]-1, commands[0][1]):\n",
        "  c1.append(array[i])\n",
        "c1 = sorted(c1)\n",
        "c2 = c1[commands[0][2]-1]\n",
        "answer.append(c2)\n",
        "print(answer)"
      ],
      "execution_count": 7,
      "outputs": [
        {
          "output_type": "stream",
          "text": [
            "[5]\n"
          ],
          "name": "stdout"
        }
      ]
    },
    {
      "cell_type": "markdown",
      "metadata": {
        "id": "CvMUO1o67m2T"
      },
      "source": [
        "### 함수없이 전체 리스트에 대해서 해보기"
      ]
    },
    {
      "cell_type": "code",
      "metadata": {
        "colab": {
          "base_uri": "https://localhost:8080/"
        },
        "id": "WdFIL80VMppC",
        "outputId": "7aaf2bb7-e683-4837-a8f4-b19568cf84d3"
      },
      "source": [
        "array = [1,5,2,6,3,7,4]\n",
        "commands = [[2, 5, 3], [4, 4, 1], [1, 7, 3]]\n",
        "answer = []\n",
        "\n",
        "for i in range(0, len(commands)):\n",
        "  for j in range(commands[i][0]-1, commands[i][1]):\n",
        "    c1.append(array[j])\n",
        "  c1 = sorted(c1)\n",
        "  c2 = c1[commands[i][2]-1]\n",
        "  answer.append(c2)\n",
        "  c1 = []\n",
        "  c2 = []\n",
        "print(answer)\n"
      ],
      "execution_count": 26,
      "outputs": [
        {
          "output_type": "stream",
          "text": [
            "[5, 6, 3]\n"
          ],
          "name": "stdout"
        }
      ]
    },
    {
      "cell_type": "markdown",
      "metadata": {
        "id": "i-Onfbyn4ZtN"
      },
      "source": [
        "### 잘 안되었던 점\r\n",
        "\r\n",
        "- 다음과 같은 에러가 발생하였다.\r\n"
      ]
    },
    {
      "cell_type": "code",
      "metadata": {
        "colab": {
          "base_uri": "https://localhost:8080/",
          "height": 186
        },
        "id": "7BQ631p15ibE",
        "outputId": "f828ac27-bc6e-44dc-b549-c339030ad498"
      },
      "source": [
        "commands = [[2, 5, 3], [4, 4, 1], [1, 7, 3]]\r\n",
        "answer.append(c1[commands[0][2]-1])"
      ],
      "execution_count": 29,
      "outputs": [
        {
          "output_type": "error",
          "ename": "IndexError",
          "evalue": "ignored",
          "traceback": [
            "\u001b[0;31m---------------------------------------------------------------------------\u001b[0m",
            "\u001b[0;31mIndexError\u001b[0m                                Traceback (most recent call last)",
            "\u001b[0;32m<ipython-input-29-9b3e559bb51c>\u001b[0m in \u001b[0;36m<module>\u001b[0;34m()\u001b[0m\n\u001b[1;32m      1\u001b[0m \u001b[0mcommands\u001b[0m \u001b[0;34m=\u001b[0m \u001b[0;34m[\u001b[0m\u001b[0;34m[\u001b[0m\u001b[0;36m2\u001b[0m\u001b[0;34m,\u001b[0m \u001b[0;36m5\u001b[0m\u001b[0;34m,\u001b[0m \u001b[0;36m3\u001b[0m\u001b[0;34m]\u001b[0m\u001b[0;34m,\u001b[0m \u001b[0;34m[\u001b[0m\u001b[0;36m4\u001b[0m\u001b[0;34m,\u001b[0m \u001b[0;36m4\u001b[0m\u001b[0;34m,\u001b[0m \u001b[0;36m1\u001b[0m\u001b[0;34m]\u001b[0m\u001b[0;34m,\u001b[0m \u001b[0;34m[\u001b[0m\u001b[0;36m1\u001b[0m\u001b[0;34m,\u001b[0m \u001b[0;36m7\u001b[0m\u001b[0;34m,\u001b[0m \u001b[0;36m3\u001b[0m\u001b[0;34m]\u001b[0m\u001b[0;34m]\u001b[0m\u001b[0;34m\u001b[0m\u001b[0;34m\u001b[0m\u001b[0m\n\u001b[0;32m----> 2\u001b[0;31m \u001b[0manswer\u001b[0m\u001b[0;34m.\u001b[0m\u001b[0mappend\u001b[0m\u001b[0;34m(\u001b[0m\u001b[0mc1\u001b[0m\u001b[0;34m[\u001b[0m\u001b[0mcommands\u001b[0m\u001b[0;34m[\u001b[0m\u001b[0;36m0\u001b[0m\u001b[0;34m]\u001b[0m\u001b[0;34m[\u001b[0m\u001b[0;36m2\u001b[0m\u001b[0;34m]\u001b[0m\u001b[0;34m-\u001b[0m\u001b[0;36m1\u001b[0m\u001b[0;34m]\u001b[0m\u001b[0;34m)\u001b[0m\u001b[0;34m\u001b[0m\u001b[0;34m\u001b[0m\u001b[0m\n\u001b[0m",
            "\u001b[0;31mIndexError\u001b[0m: list index out of range"
          ]
        }
      ]
    },
    {
      "cell_type": "markdown",
      "metadata": {
        "id": "Ddaw2mdH7vM8"
      },
      "source": [
        "### 나의 최종 풀이"
      ]
    },
    {
      "cell_type": "code",
      "metadata": {
        "colab": {
          "base_uri": "https://localhost:8080/"
        },
        "id": "DXRwVkWrj-JO",
        "outputId": "cdf4eb9a-9262-4f1a-976b-f9518eb2509b"
      },
      "source": [
        "def solution(array, commands):\r\n",
        "    answer = []\r\n",
        "    c1 = []\r\n",
        "    for i in range(0, len(commands)):\r\n",
        "      for j in range(commands[i][0]-1, commands[i][1]):\r\n",
        "        c1.append(array[j])\r\n",
        "      c1 = sorted(c1)\r\n",
        "      c2 = c1[commands[i][2]-1]\r\n",
        "      answer.append(c2)\r\n",
        "      c1 = []\r\n",
        "      c2 = []\r\n",
        "    return answer\r\n",
        "\r\n",
        "solution([1,5,2,6,3,7,4], [[2, 5, 3], [4, 4, 1], [1, 7, 3]])"
      ],
      "execution_count": 25,
      "outputs": [
        {
          "output_type": "execute_result",
          "data": {
            "text/plain": [
              "[5, 6, 3]"
            ]
          },
          "metadata": {
            "tags": []
          },
          "execution_count": 25
        }
      ]
    },
    {
      "cell_type": "markdown",
      "metadata": {
        "id": "xPAASMyn7N2y"
      },
      "source": [
        "### 나랑 비슷한 다른 사람의 깔끔한 코드"
      ]
    },
    {
      "cell_type": "code",
      "metadata": {
        "colab": {
          "base_uri": "https://localhost:8080/"
        },
        "id": "sklkUR-XouzM",
        "outputId": "9d5e5b4e-7848-40f4-acd4-ac66fe643111"
      },
      "source": [
        "def solution(array, commands):\r\n",
        "    answer = []\r\n",
        "\r\n",
        "    for i in commands:\r\n",
        "        temp = array[i[0]-1:i[1]]\r\n",
        "        temp.sort()\r\n",
        "        answer.append(temp[i[2]-1])\r\n",
        "\r\n",
        "    return answer\r\n",
        "    \r\n",
        "solution([1,5,2,6,3,7,4], [[2, 5, 3], [4, 4, 1], [1, 7, 3]])"
      ],
      "execution_count": 30,
      "outputs": [
        {
          "output_type": "execute_result",
          "data": {
            "text/plain": [
              "[5, 6, 3]"
            ]
          },
          "metadata": {
            "tags": []
          },
          "execution_count": 30
        }
      ]
    },
    {
      "cell_type": "markdown",
      "metadata": {
        "id": "BKGTm-i68CJU"
      },
      "source": [
        "### 분석\r\n",
        "\r\n",
        "- for 문에서 2차원 리스트의 활용법\r\n",
        "  - for i in 2차원 => i는 2차원 리스트의 1차 라스트들이 나옴\r\n",
        "- for 문 + append의 남용 \r\n",
        "  - list[i:j]의 활용성을 기억할 것\r\n",
        "- c1 = sorted(c1) => c1.sort()로 요약\r\n",
        "- answer.append(c1[commands[i][2]-1]) =>error\r\n",
        "  - answer.append(c1[i[2]-1]) => 정상작동\r\n",
        "\r\n",
        "---\r\n",
        "### 최고 간단한 풀이\r\n"
      ]
    },
    {
      "cell_type": "code",
      "metadata": {
        "colab": {
          "base_uri": "https://localhost:8080/"
        },
        "id": "abUPpZ7i_E7I",
        "outputId": "7bcf8abf-226d-4fb8-eb06-50fa5d3c0789"
      },
      "source": [
        "def solution(array, commands):\r\n",
        "    return list(map(lambda x:sorted(array[x[0]-1:x[1]])[x[2]-1], commands))\r\n",
        "solution([1,5,2,6,3,7,4], [[2, 5, 3], [4, 4, 1], [1, 7, 3]])"
      ],
      "execution_count": 31,
      "outputs": [
        {
          "output_type": "execute_result",
          "data": {
            "text/plain": [
              "[5, 6, 3]"
            ]
          },
          "metadata": {
            "tags": []
          },
          "execution_count": 31
        }
      ]
    },
    {
      "cell_type": "markdown",
      "metadata": {
        "id": "ZshLV-mB_ZXr"
      },
      "source": [
        "### lambda\r\n",
        "- 형식 => lambda 인자 : 표현식\r\n",
        "- 함수를 인자에 대해 적용\r\n",
        "\r\n",
        "### map\r\n",
        "- 형식 => map(함수, 리스트)\r\n",
        "- 주로 map(lambda 인자 : 함수, 리스트)의 형식을 활용\r\n"
      ]
    }
  ]
}