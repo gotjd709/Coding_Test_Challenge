{
  "nbformat": 4,
  "nbformat_minor": 0,
  "metadata": {
    "colab": {
      "name": "콜라츠 추측",
      "provenance": [],
      "authorship_tag": "ABX9TyPl5X5jLSyDC6aVtuAhmDIw",
      "include_colab_link": true
    },
    "kernelspec": {
      "name": "python3",
      "display_name": "Python 3"
    }
  },
  "cells": [
    {
      "cell_type": "markdown",
      "metadata": {
        "id": "view-in-github",
        "colab_type": "text"
      },
      "source": [
        "<a href=\"https://colab.research.google.com/github/gotjd709/Coding_Test_Challenge/blob/main/7.%20%EC%BD%9C%EB%9D%BC%EC%B8%A0%20%EC%B6%94%EC%B8%A1%20/%20%EC%BD%9C%EB%9D%BC%EC%B8%A0_%EC%B6%94%EC%B8%A1.ipynb\" target=\"_parent\"><img src=\"https://colab.research.google.com/assets/colab-badge.svg\" alt=\"Open In Colab\"/></a>"
      ]
    },
    {
      "cell_type": "markdown",
      "metadata": {
        "id": "Z91wY6F4FOgT"
      },
      "source": [
        "콜라츠 추측\r\n",
        "===\r\n",
        "\r\n",
        "1. for 문을 사용해야 함\r\n",
        "2. if 문을 사용해야 함\r\n",
        "3. 반복된 i의 값을 반환할 수 있어야함\r\n",
        "\r\n",
        "#### 처음 도전한 함수"
      ]
    },
    {
      "cell_type": "code",
      "metadata": {
        "colab": {
          "base_uri": "https://localhost:8080/"
        },
        "id": "pV7sLgCDEjjE",
        "outputId": "b19a34f0-1453-4907-b55e-915e9b877ba2"
      },
      "source": [
        "def solution(num):\r\n",
        "  answer = 0\r\n",
        "\r\n",
        "  for i in range(0, 500):\r\n",
        "    if num % 2 == 0:\r\n",
        "      num = num // 2\r\n",
        "\r\n",
        "    elif num == 1:\r\n",
        "      answer = i\r\n",
        "      break\r\n",
        "  \r\n",
        "    elif num % 2 == 1:\r\n",
        "      num = num*3+1\r\n",
        "\r\n",
        "  if answer == 0:\r\n",
        "    answer = -1\r\n",
        "\r\n",
        "  return answer\r\n",
        "\r\n",
        "solution(1)"
      ],
      "execution_count": 30,
      "outputs": [
        {
          "output_type": "execute_result",
          "data": {
            "text/plain": [
              "-1"
            ]
          },
          "metadata": {
            "tags": []
          },
          "execution_count": 30
        }
      ]
    },
    {
      "cell_type": "markdown",
      "metadata": {
        "id": "_xnxT4jBFt5n"
      },
      "source": [
        "input = 1인 경우에 -1을 추출하게 됨\r\n",
        "\r\n",
        "#### 최종 수정한 함수"
      ]
    },
    {
      "cell_type": "code",
      "metadata": {
        "colab": {
          "base_uri": "https://localhost:8080/"
        },
        "id": "YZc_CUzXFNHh",
        "outputId": "68e463ce-5f69-4194-aaac-a49d99311b00"
      },
      "source": [
        "def solution(num):\r\n",
        "  answer = 0\r\n",
        "\r\n",
        "  for i in range(0, 500):\r\n",
        "    if num % 2 == 0:\r\n",
        "      num = num // 2\r\n",
        "\r\n",
        "    elif num == 1:\r\n",
        "      answer = i\r\n",
        "      break\r\n",
        "  \r\n",
        "    elif num % 2 == 1:\r\n",
        "      num = num*3+1\r\n",
        "\r\n",
        "  if num > 1:\r\n",
        "    answer = -1\r\n",
        "\r\n",
        "  return answer\r\n",
        "\r\n",
        "solution(1)\r\n"
      ],
      "execution_count": 31,
      "outputs": [
        {
          "output_type": "execute_result",
          "data": {
            "text/plain": [
              "0"
            ]
          },
          "metadata": {
            "tags": []
          },
          "execution_count": 31
        }
      ]
    },
    {
      "cell_type": "markdown",
      "metadata": {
        "id": "vs9jQaY9RIv6"
      },
      "source": [
        "### 다른 사람의 좋은 풀이"
      ]
    },
    {
      "cell_type": "code",
      "metadata": {
        "id": "J3DEUnYgRMlC"
      },
      "source": [
        "def collatz(num):\r\n",
        "    answer = 0\r\n",
        "    while num!=1:\r\n",
        "        if num%2==0:\r\n",
        "            num=num/2\r\n",
        "        else:\r\n",
        "            num=3*num+1\r\n",
        "        answer=answer+1\r\n",
        "\r\n",
        "        if answer>=500:\r\n",
        "            return -1\r\n",
        "\r\n",
        "    return answer"
      ],
      "execution_count": 35,
      "outputs": []
    },
    {
      "cell_type": "markdown",
      "metadata": {
        "id": "ljQt2rWCQZuz"
      },
      "source": [
        "### 새로 알게된 점\r\n",
        "\r\n",
        "- retrun을 꼭 마지막에 할 필요는 없음\r\n",
        "- while을 통해 조건을 만족하는 동안이 아닌 것을 출력 가능"
      ]
    }
  ]
}